{
 "cells": [
  {
   "cell_type": "code",
   "execution_count": null,
   "id": "c038055f",
   "metadata": {},
   "outputs": [],
   "source": [
    "price = 1250000\n",
    "average_unit_price = 1000000\n",
    "\n",
    "\n",
    "margin_rate = 0.45\n",
    "\n",
    "\n",
    "base_salary = 361400+58000\n",
    "\n",
    "\n",
    "bonus = 720000*2"
   ]
  },
  {
   "cell_type": "code",
   "execution_count": 1,
   "id": "a421836f",
   "metadata": {},
   "outputs": [
    {
     "ename": "NameError",
     "evalue": "name 'base_salary' is not defined",
     "output_type": "error",
     "traceback": [
      "\u001b[31m---------------------------------------------------------------------------\u001b[39m",
      "\u001b[31mNameError\u001b[39m                                 Traceback (most recent call last)",
      "\u001b[36mCell\u001b[39m\u001b[36m \u001b[39m\u001b[32mIn[1]\u001b[39m\u001b[32m, line 1\u001b[39m\n\u001b[32m----> \u001b[39m\u001b[32m1\u001b[39m annual_salary = \u001b[43mbase_salary\u001b[49m*\u001b[32m12\u001b[39m+bonus\n\u001b[32m      2\u001b[39m average_monthly_salary = annual_salary/\u001b[32m12\u001b[39m\n\u001b[32m      3\u001b[39m \u001b[38;5;28mprint\u001b[39m(\u001b[33mf\u001b[39m\u001b[33m\"\u001b[39m\u001b[33m年収 (Annual Salary): \u001b[39m\u001b[38;5;132;01m{\u001b[39;00mannual_salary\u001b[38;5;132;01m}\u001b[39;00m\u001b[33m\"\u001b[39m)\n",
      "\u001b[31mNameError\u001b[39m: name 'base_salary' is not defined"
     ]
    }
   ],
   "source": [
    "annual_salary = base_salary*12+bonus\n",
    "average_monthly_salary = annual_salary/12\n",
    "print(f\"年収 (Annual Salary): {annual_salary}\")\n",
    "print(f\"平均月収 (Average Monthly Salary): {average_monthly_salary}\")"
   ]
  },
  {
   "cell_type": "code",
   "execution_count": null,
   "id": "cf090398",
   "metadata": {},
   "outputs": [
    {
     "name": "stdout",
     "output_type": "stream",
     "text": [
      "562500.0\n",
      "2250000.0\n",
      "375000.0\n"
     ]
    }
   ],
   "source": [
    "monthly_gain = price*margin_rate\n",
    "save_bonus = monthly_gain*4\n",
    "monthly_no_bonus = monthly_gain*8/12\n",
    "print(monthly_gain)\n",
    "print(save_bonus)\n",
    "print(monthly_no_bonus)"
   ]
  },
  {
   "cell_type": "code",
   "execution_count": 15,
   "id": "ac5654a8",
   "metadata": {},
   "outputs": [
    {
     "data": {
      "text/plain": [
       "6750000.0"
      ]
     },
     "execution_count": 15,
     "metadata": {},
     "output_type": "execute_result"
    }
   ],
   "source": [
    "monthly_no_bonus*12+save_bonus"
   ]
  },
  {
   "cell_type": "code",
   "execution_count": null,
   "id": "c7dcc55d",
   "metadata": {},
   "outputs": [],
   "source": []
  },
  {
   "cell_type": "code",
   "execution_count": null,
   "id": "cac1f2ad",
   "metadata": {},
   "outputs": [],
   "source": []
  },
  {
   "cell_type": "code",
   "execution_count": null,
   "id": "72b53704",
   "metadata": {},
   "outputs": [],
   "source": []
  }
 ],
 "metadata": {
  "kernelspec": {
   "display_name": "Python 3",
   "language": "python",
   "name": "python3"
  },
  "language_info": {
   "codemirror_mode": {
    "name": "ipython",
    "version": 3
   },
   "file_extension": ".py",
   "mimetype": "text/x-python",
   "name": "python",
   "nbconvert_exporter": "python",
   "pygments_lexer": "ipython3",
   "version": "3.11.9"
  }
 },
 "nbformat": 4,
 "nbformat_minor": 5
}
